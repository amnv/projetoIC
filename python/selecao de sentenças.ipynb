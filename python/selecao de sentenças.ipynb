{
 "cells": [
  {
   "cell_type": "code",
   "execution_count": 19,
   "metadata": {},
   "outputs": [],
   "source": [
    "import glob\n",
    "import re"
   ]
  },
  {
   "cell_type": "code",
   "execution_count": 21,
   "metadata": {},
   "outputs": [
    {
     "data": {
      "text/plain": [
       "['../results/seed/novos2/neuroplacodal cell.txt',\n",
       " '../results/seed/novos2/precursor cell.txt',\n",
       " '../results/seed/novos2/totipotent stem cell.txt',\n",
       " '../results/seed/novos2/neuronal receptor cell.txt',\n",
       " '../results/seed/novos2/stem cell.txt',\n",
       " '../results/seed/novos2/myoblast.txt',\n",
       " '../results/seed/novos2/kidney cell.txt',\n",
       " '../results/seed/novos2/neural cell.txt',\n",
       " '../results/seed/novos2/epithelial cell.txt',\n",
       " '../results/seed/novos2/fibroblast.txt']"
      ]
     },
     "execution_count": 21,
     "metadata": {},
     "output_type": "execute_result"
    }
   ],
   "source": [
    "files_name = glob.glob(\"../results/seed/novos2/*.txt\")\n",
    "files_name"
   ]
  },
  {
   "cell_type": "code",
   "execution_count": 23,
   "metadata": {},
   "outputs": [
    {
     "data": {
      "text/plain": [
       "['neuroplacodal']"
      ]
     },
     "execution_count": 23,
     "metadata": {},
     "output_type": "execute_result"
    }
   ],
   "source": [
    "re.findall(\"neuroplacodal\", files_name[0])"
   ]
  },
  {
   "cell_type": "code",
   "execution_count": null,
   "metadata": {},
   "outputs": [],
   "source": []
  }
 ],
 "metadata": {
  "kernelspec": {
   "display_name": "Python 3",
   "language": "python",
   "name": "python3"
  },
  "language_info": {
   "codemirror_mode": {
    "name": "ipython",
    "version": 3
   },
   "file_extension": ".py",
   "mimetype": "text/x-python",
   "name": "python",
   "nbconvert_exporter": "python",
   "pygments_lexer": "ipython3",
   "version": "3.6.8"
  }
 },
 "nbformat": 4,
 "nbformat_minor": 2
}
