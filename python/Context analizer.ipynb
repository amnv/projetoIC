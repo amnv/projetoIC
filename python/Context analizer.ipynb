{
 "cells": [
  {
   "cell_type": "markdown",
   "metadata": {},
   "source": [
    "### Context analizer\n",
    "\n",
    "This notebook is aimed to help verify the corpos from GEO. Witch words are more frequenty in each corpos and try to find a pattern between them."
   ]
  },
  {
   "cell_type": "code",
   "execution_count": 89,
   "metadata": {},
   "outputs": [],
   "source": [
    "from collections import Counter\n",
    "from bs4 import BeautifulSoup"
   ]
  },
  {
   "cell_type": "code",
   "execution_count": 5,
   "metadata": {},
   "outputs": [
    {
     "name": "stdout",
     "output_type": "stream",
     "text": [
      "Adipose Tissue.txt\r\n",
      "Bone Marrow.txt\r\n",
      "refined_adipose_tissue_sentencas_candidatas.txt\r\n",
      "refined_adipose_tissue.txt\r\n",
      "refined_bone_marrow_sentencas_candidatas.txt\r\n",
      "refined_bone_marrow.txt\r\n",
      "refined_umbilical_cord_sentencas_candidatas.txt\r\n",
      "refined_umbilical_cord.txt\r\n",
      "Umbilical Cord.txt\r\n",
      "usefull\r\n"
     ]
    }
   ],
   "source": [
    "! cd ../seed && ls"
   ]
  },
  {
   "cell_type": "code",
   "execution_count": 118,
   "metadata": {},
   "outputs": [],
   "source": [
    "bone_marrow = open(\"../seed/usefull/umbilical_cord.xml\")"
   ]
  },
  {
   "cell_type": "code",
   "execution_count": 119,
   "metadata": {},
   "outputs": [],
   "source": [
    "soup = BeautifulSoup(bone_marrow, 'html.parser')"
   ]
  },
  {
   "cell_type": "code",
   "execution_count": 120,
   "metadata": {},
   "outputs": [],
   "source": [
    "def to_string(s):\n",
    "    if s:\n",
    "        novo = s.replace(\"\\\"\", \"\").replace(\",\", \"\").split(\" \")[:5]\n",
    "        return \" \".join(novo) if novo is not \" \" else None\n",
    "after = []\n",
    "before = []\n",
    "for i in soup.findAll(\"cell_type\"):\n",
    "    after.append(to_string(i.next_sibling))\n",
    "    before.append(to_string(i.previous_sibling))"
   ]
  },
  {
   "cell_type": "code",
   "execution_count": 121,
   "metadata": {},
   "outputs": [],
   "source": [
    "def count_sentece(s):\n",
    "    sentence = \"\"\n",
    "    for i in s:\n",
    "        if i:\n",
    "            sentence += i + \" \"\n",
    "    return Counter(sentence.split()).most_common(15)"
   ]
  },
  {
   "cell_type": "code",
   "execution_count": 122,
   "metadata": {},
   "outputs": [
    {
     "data": {
      "text/plain": [
       "[('cells', 3),\n",
       " ('from', 3),\n",
       " ('DNA', 3),\n",
       " ('A', 2),\n",
       " ('weighed', 2),\n",
       " ('amount', 2),\n",
       " ('of', 2),\n",
       " ('pulverized', 2),\n",
       " ('methylation', 2),\n",
       " ('Genomic', 2),\n",
       " ('stem', 2),\n",
       " ('and', 2),\n",
       " ('progenitor', 2),\n",
       " ('CD34+', 1),\n",
       " ('were', 1)]"
      ]
     },
     "execution_count": 122,
     "metadata": {},
     "output_type": "execute_result"
    }
   ],
   "source": [
    "count_before = count_sentece(before)\n",
    "count_before"
   ]
  },
  {
   "cell_type": "code",
   "execution_count": 123,
   "metadata": {},
   "outputs": [
    {
     "data": {
      "text/plain": [
       "[('blood', 11),\n",
       " ('was', 4),\n",
       " ('and', 4),\n",
       " ('(UC)', 4),\n",
       " ('tissue', 2),\n",
       " ('lysed', 2),\n",
       " ('as', 2),\n",
       " ('DNA', 2),\n",
       " ('collected', 2),\n",
       " ('after', 1),\n",
       " ('written', 1),\n",
       " ('consent', 1),\n",
       " ('skin)', 1),\n",
       " ('we', 1),\n",
       " ('(UCB)', 1)]"
      ]
     },
     "execution_count": 123,
     "metadata": {},
     "output_type": "execute_result"
    }
   ],
   "source": [
    "count_after = count_sentece(after)\n",
    "count_after"
   ]
  },
  {
   "cell_type": "code",
   "execution_count": 124,
   "metadata": {},
   "outputs": [],
   "source": [
    "count = count_sentece(before + after)"
   ]
  },
  {
   "cell_type": "code",
   "execution_count": 125,
   "metadata": {},
   "outputs": [],
   "source": [
    "import csv\n",
    "\n",
    "with open(\"umbilical_cord_frequency\", 'w') as myfile:\n",
    "    wr = csv.writer(myfile, quoting=csv.QUOTE_ALL)\n",
    "    wr.writerow(count)"
   ]
  },
  {
   "cell_type": "code",
   "execution_count": null,
   "metadata": {},
   "outputs": [],
   "source": []
  }
 ],
 "metadata": {
  "kernelspec": {
   "display_name": "Python 3",
   "language": "python",
   "name": "python3"
  },
  "language_info": {
   "codemirror_mode": {
    "name": "ipython",
    "version": 3
   },
   "file_extension": ".py",
   "mimetype": "text/x-python",
   "name": "python",
   "nbconvert_exporter": "python",
   "pygments_lexer": "ipython3",
   "version": "3.6.8"
  }
 },
 "nbformat": 4,
 "nbformat_minor": 2
}
